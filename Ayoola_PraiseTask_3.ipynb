{
  "cells": [
    {
      "cell_type": "markdown",
      "metadata": {
        "id": "view-in-github",
        "colab_type": "text"
      },
      "source": [
        "<a href=\"https://colab.research.google.com/github/AyoPraise750/PizzaPrice_Analysis-/blob/master/Ayoola_PraiseTask_3.ipynb\" target=\"_parent\"><img src=\"https://colab.research.google.com/assets/colab-badge.svg\" alt=\"Open In Colab\"/></a>"
      ]
    },
    {
      "cell_type": "markdown",
      "source": [
        "##Pizza Place Sales Analysis\n",
        "An analysis of a year's worth of sales from a fictitious pizza place, including the date and time of each order and the pizzas served, with additional details on the type, size, quantity, price, and ingredients."
      ],
      "metadata": {
        "id": "tG0XvqEZgg4K"
      }
    },
    {
      "cell_type": "code",
      "source": [
        "import pandas as pd\n",
        "# Load the datasets\n",
        "order_details_df = pd.read_csv(r'/content/order_details.csv', encoding = 'latin')\n",
        "orders_df = pd.read_csv(r'/content/orders.csv', encoding = 'latin')\n",
        "pizzas_type_df = pd.read_csv(r'/content/pizza_types.csv', encoding = 'latin')\n",
        "pizzas_df = pd.read_csv(r'/content/pizzas.csv', encoding = 'latin')\n",
        "dict_df =pd.read_csv(r'/content/data_dictionary.csv', encoding = 'latin')"
      ],
      "metadata": {
        "id": "kUyy8k78gIP0"
      },
      "execution_count": null,
      "outputs": []
    },
    {
      "cell_type": "markdown",
      "source": [
        "Joining the four CSV files to a single dataframe"
      ],
      "metadata": {
        "id": "8XATG1KTIuUS"
      }
    },
    {
      "cell_type": "code",
      "source": [
        "# the order_details contains the pizza_id and quantity for each order\n",
        "df = pd.merge(order_details_df, pizzas_df, on='pizza_id')\n",
        "\n",
        "# Merge with the pizza_types data to get type, ingredients, etc.\n",
        "df = pd.merge(df, pizzas_type_df, on='pizza_type_id')\n",
        "\n",
        "# Merge with the orders data to get date and time\n",
        "df = pd.merge(df, orders_df, on='order_id')\n",
        "\n",
        "# Convert date and time columns to datetime objects\n",
        "df['date'] = pd.to_datetime(df['date'])\n",
        "df['time'] = pd.to_datetime(df['time'], format='%H:%M:%S').dt.time\n",
        "df\n",
        "df.head()"
      ],
      "metadata": {
        "colab": {
          "base_uri": "https://localhost:8080/",
          "height": 556
        },
        "id": "d_NY0IxkIwV1",
        "outputId": "47d5c597-866b-416f-aa2a-147b07b8b6df"
      },
      "execution_count": null,
      "outputs": [
        {
          "output_type": "execute_result",
          "data": {
            "text/plain": [
              "   order_details_id  order_id       pizza_id  quantity pizza_type_id size  \\\n",
              "0                 1         1     hawaiian_m         1      hawaiian    M   \n",
              "1                 2         2  classic_dlx_m         1   classic_dlx    M   \n",
              "2                 3         2  five_cheese_l         1   five_cheese    L   \n",
              "3                 4         2    ital_supr_l         1     ital_supr    L   \n",
              "4                 5         2     mexicana_m         1      mexicana    M   \n",
              "\n",
              "   price                       name category  \\\n",
              "0  13.25         The Hawaiian Pizza  Classic   \n",
              "1  16.00   The Classic Deluxe Pizza  Classic   \n",
              "2  18.50      The Five Cheese Pizza   Veggie   \n",
              "3  20.75  The Italian Supreme Pizza  Supreme   \n",
              "4  16.00         The Mexicana Pizza   Veggie   \n",
              "\n",
              "                                         ingredients       date      time  \n",
              "0           Sliced Ham, Pineapple, Mozzarella Cheese 2015-01-01  11:38:36  \n",
              "1  Pepperoni, Mushrooms, Red Onions, Red Peppers,... 2015-01-01  11:57:40  \n",
              "2  Mozzarella Cheese, Provolone Cheese, Smoked Go... 2015-01-01  11:57:40  \n",
              "3  Calabrese Salami, Capocollo, Tomatoes, Red Oni... 2015-01-01  11:57:40  \n",
              "4  Tomatoes, Red Peppers, Jalapeno Peppers, Red O... 2015-01-01  11:57:40  "
            ],
            "text/html": [
              "\n",
              "  <div id=\"df-1f34d8b2-03d2-42cb-a0d5-2841741e453a\" class=\"colab-df-container\">\n",
              "    <div>\n",
              "<style scoped>\n",
              "    .dataframe tbody tr th:only-of-type {\n",
              "        vertical-align: middle;\n",
              "    }\n",
              "\n",
              "    .dataframe tbody tr th {\n",
              "        vertical-align: top;\n",
              "    }\n",
              "\n",
              "    .dataframe thead th {\n",
              "        text-align: right;\n",
              "    }\n",
              "</style>\n",
              "<table border=\"1\" class=\"dataframe\">\n",
              "  <thead>\n",
              "    <tr style=\"text-align: right;\">\n",
              "      <th></th>\n",
              "      <th>order_details_id</th>\n",
              "      <th>order_id</th>\n",
              "      <th>pizza_id</th>\n",
              "      <th>quantity</th>\n",
              "      <th>pizza_type_id</th>\n",
              "      <th>size</th>\n",
              "      <th>price</th>\n",
              "      <th>name</th>\n",
              "      <th>category</th>\n",
              "      <th>ingredients</th>\n",
              "      <th>date</th>\n",
              "      <th>time</th>\n",
              "    </tr>\n",
              "  </thead>\n",
              "  <tbody>\n",
              "    <tr>\n",
              "      <th>0</th>\n",
              "      <td>1</td>\n",
              "      <td>1</td>\n",
              "      <td>hawaiian_m</td>\n",
              "      <td>1</td>\n",
              "      <td>hawaiian</td>\n",
              "      <td>M</td>\n",
              "      <td>13.25</td>\n",
              "      <td>The Hawaiian Pizza</td>\n",
              "      <td>Classic</td>\n",
              "      <td>Sliced Ham, Pineapple, Mozzarella Cheese</td>\n",
              "      <td>2015-01-01</td>\n",
              "      <td>11:38:36</td>\n",
              "    </tr>\n",
              "    <tr>\n",
              "      <th>1</th>\n",
              "      <td>2</td>\n",
              "      <td>2</td>\n",
              "      <td>classic_dlx_m</td>\n",
              "      <td>1</td>\n",
              "      <td>classic_dlx</td>\n",
              "      <td>M</td>\n",
              "      <td>16.00</td>\n",
              "      <td>The Classic Deluxe Pizza</td>\n",
              "      <td>Classic</td>\n",
              "      <td>Pepperoni, Mushrooms, Red Onions, Red Peppers,...</td>\n",
              "      <td>2015-01-01</td>\n",
              "      <td>11:57:40</td>\n",
              "    </tr>\n",
              "    <tr>\n",
              "      <th>2</th>\n",
              "      <td>3</td>\n",
              "      <td>2</td>\n",
              "      <td>five_cheese_l</td>\n",
              "      <td>1</td>\n",
              "      <td>five_cheese</td>\n",
              "      <td>L</td>\n",
              "      <td>18.50</td>\n",
              "      <td>The Five Cheese Pizza</td>\n",
              "      <td>Veggie</td>\n",
              "      <td>Mozzarella Cheese, Provolone Cheese, Smoked Go...</td>\n",
              "      <td>2015-01-01</td>\n",
              "      <td>11:57:40</td>\n",
              "    </tr>\n",
              "    <tr>\n",
              "      <th>3</th>\n",
              "      <td>4</td>\n",
              "      <td>2</td>\n",
              "      <td>ital_supr_l</td>\n",
              "      <td>1</td>\n",
              "      <td>ital_supr</td>\n",
              "      <td>L</td>\n",
              "      <td>20.75</td>\n",
              "      <td>The Italian Supreme Pizza</td>\n",
              "      <td>Supreme</td>\n",
              "      <td>Calabrese Salami, Capocollo, Tomatoes, Red Oni...</td>\n",
              "      <td>2015-01-01</td>\n",
              "      <td>11:57:40</td>\n",
              "    </tr>\n",
              "    <tr>\n",
              "      <th>4</th>\n",
              "      <td>5</td>\n",
              "      <td>2</td>\n",
              "      <td>mexicana_m</td>\n",
              "      <td>1</td>\n",
              "      <td>mexicana</td>\n",
              "      <td>M</td>\n",
              "      <td>16.00</td>\n",
              "      <td>The Mexicana Pizza</td>\n",
              "      <td>Veggie</td>\n",
              "      <td>Tomatoes, Red Peppers, Jalapeno Peppers, Red O...</td>\n",
              "      <td>2015-01-01</td>\n",
              "      <td>11:57:40</td>\n",
              "    </tr>\n",
              "  </tbody>\n",
              "</table>\n",
              "</div>\n",
              "    <div class=\"colab-df-buttons\">\n",
              "\n",
              "  <div class=\"colab-df-container\">\n",
              "    <button class=\"colab-df-convert\" onclick=\"convertToInteractive('df-1f34d8b2-03d2-42cb-a0d5-2841741e453a')\"\n",
              "            title=\"Convert this dataframe to an interactive table.\"\n",
              "            style=\"display:none;\">\n",
              "\n",
              "  <svg xmlns=\"http://www.w3.org/2000/svg\" height=\"24px\" viewBox=\"0 -960 960 960\">\n",
              "    <path d=\"M120-120v-720h720v720H120Zm60-500h600v-160H180v160Zm220 220h160v-160H400v160Zm0 220h160v-160H400v160ZM180-400h160v-160H180v160Zm440 0h160v-160H620v160ZM180-180h160v-160H180v160Zm440 0h160v-160H620v160Z\"/>\n",
              "  </svg>\n",
              "    </button>\n",
              "\n",
              "  <style>\n",
              "    .colab-df-container {\n",
              "      display:flex;\n",
              "      gap: 12px;\n",
              "    }\n",
              "\n",
              "    .colab-df-convert {\n",
              "      background-color: #E8F0FE;\n",
              "      border: none;\n",
              "      border-radius: 50%;\n",
              "      cursor: pointer;\n",
              "      display: none;\n",
              "      fill: #1967D2;\n",
              "      height: 32px;\n",
              "      padding: 0 0 0 0;\n",
              "      width: 32px;\n",
              "    }\n",
              "\n",
              "    .colab-df-convert:hover {\n",
              "      background-color: #E2EBFA;\n",
              "      box-shadow: 0px 1px 2px rgba(60, 64, 67, 0.3), 0px 1px 3px 1px rgba(60, 64, 67, 0.15);\n",
              "      fill: #174EA6;\n",
              "    }\n",
              "\n",
              "    .colab-df-buttons div {\n",
              "      margin-bottom: 4px;\n",
              "    }\n",
              "\n",
              "    [theme=dark] .colab-df-convert {\n",
              "      background-color: #3B4455;\n",
              "      fill: #D2E3FC;\n",
              "    }\n",
              "\n",
              "    [theme=dark] .colab-df-convert:hover {\n",
              "      background-color: #434B5C;\n",
              "      box-shadow: 0px 1px 3px 1px rgba(0, 0, 0, 0.15);\n",
              "      filter: drop-shadow(0px 1px 2px rgba(0, 0, 0, 0.3));\n",
              "      fill: #FFFFFF;\n",
              "    }\n",
              "  </style>\n",
              "\n",
              "    <script>\n",
              "      const buttonEl =\n",
              "        document.querySelector('#df-1f34d8b2-03d2-42cb-a0d5-2841741e453a button.colab-df-convert');\n",
              "      buttonEl.style.display =\n",
              "        google.colab.kernel.accessAllowed ? 'block' : 'none';\n",
              "\n",
              "      async function convertToInteractive(key) {\n",
              "        const element = document.querySelector('#df-1f34d8b2-03d2-42cb-a0d5-2841741e453a');\n",
              "        const dataTable =\n",
              "          await google.colab.kernel.invokeFunction('convertToInteractive',\n",
              "                                                    [key], {});\n",
              "        if (!dataTable) return;\n",
              "\n",
              "        const docLinkHtml = 'Like what you see? Visit the ' +\n",
              "          '<a target=\"_blank\" href=https://colab.research.google.com/notebooks/data_table.ipynb>data table notebook</a>'\n",
              "          + ' to learn more about interactive tables.';\n",
              "        element.innerHTML = '';\n",
              "        dataTable['output_type'] = 'display_data';\n",
              "        await google.colab.output.renderOutput(dataTable, element);\n",
              "        const docLink = document.createElement('div');\n",
              "        docLink.innerHTML = docLinkHtml;\n",
              "        element.appendChild(docLink);\n",
              "      }\n",
              "    </script>\n",
              "  </div>\n",
              "\n",
              "\n",
              "    <div id=\"df-0cbd6c23-fe64-49c9-a410-1129123c3b3a\">\n",
              "      <button class=\"colab-df-quickchart\" onclick=\"quickchart('df-0cbd6c23-fe64-49c9-a410-1129123c3b3a')\"\n",
              "                title=\"Suggest charts\"\n",
              "                style=\"display:none;\">\n",
              "\n",
              "<svg xmlns=\"http://www.w3.org/2000/svg\" height=\"24px\"viewBox=\"0 0 24 24\"\n",
              "     width=\"24px\">\n",
              "    <g>\n",
              "        <path d=\"M19 3H5c-1.1 0-2 .9-2 2v14c0 1.1.9 2 2 2h14c1.1 0 2-.9 2-2V5c0-1.1-.9-2-2-2zM9 17H7v-7h2v7zm4 0h-2V7h2v10zm4 0h-2v-4h2v4z\"/>\n",
              "    </g>\n",
              "</svg>\n",
              "      </button>\n",
              "\n",
              "<style>\n",
              "  .colab-df-quickchart {\n",
              "      --bg-color: #E8F0FE;\n",
              "      --fill-color: #1967D2;\n",
              "      --hover-bg-color: #E2EBFA;\n",
              "      --hover-fill-color: #174EA6;\n",
              "      --disabled-fill-color: #AAA;\n",
              "      --disabled-bg-color: #DDD;\n",
              "  }\n",
              "\n",
              "  [theme=dark] .colab-df-quickchart {\n",
              "      --bg-color: #3B4455;\n",
              "      --fill-color: #D2E3FC;\n",
              "      --hover-bg-color: #434B5C;\n",
              "      --hover-fill-color: #FFFFFF;\n",
              "      --disabled-bg-color: #3B4455;\n",
              "      --disabled-fill-color: #666;\n",
              "  }\n",
              "\n",
              "  .colab-df-quickchart {\n",
              "    background-color: var(--bg-color);\n",
              "    border: none;\n",
              "    border-radius: 50%;\n",
              "    cursor: pointer;\n",
              "    display: none;\n",
              "    fill: var(--fill-color);\n",
              "    height: 32px;\n",
              "    padding: 0;\n",
              "    width: 32px;\n",
              "  }\n",
              "\n",
              "  .colab-df-quickchart:hover {\n",
              "    background-color: var(--hover-bg-color);\n",
              "    box-shadow: 0 1px 2px rgba(60, 64, 67, 0.3), 0 1px 3px 1px rgba(60, 64, 67, 0.15);\n",
              "    fill: var(--button-hover-fill-color);\n",
              "  }\n",
              "\n",
              "  .colab-df-quickchart-complete:disabled,\n",
              "  .colab-df-quickchart-complete:disabled:hover {\n",
              "    background-color: var(--disabled-bg-color);\n",
              "    fill: var(--disabled-fill-color);\n",
              "    box-shadow: none;\n",
              "  }\n",
              "\n",
              "  .colab-df-spinner {\n",
              "    border: 2px solid var(--fill-color);\n",
              "    border-color: transparent;\n",
              "    border-bottom-color: var(--fill-color);\n",
              "    animation:\n",
              "      spin 1s steps(1) infinite;\n",
              "  }\n",
              "\n",
              "  @keyframes spin {\n",
              "    0% {\n",
              "      border-color: transparent;\n",
              "      border-bottom-color: var(--fill-color);\n",
              "      border-left-color: var(--fill-color);\n",
              "    }\n",
              "    20% {\n",
              "      border-color: transparent;\n",
              "      border-left-color: var(--fill-color);\n",
              "      border-top-color: var(--fill-color);\n",
              "    }\n",
              "    30% {\n",
              "      border-color: transparent;\n",
              "      border-left-color: var(--fill-color);\n",
              "      border-top-color: var(--fill-color);\n",
              "      border-right-color: var(--fill-color);\n",
              "    }\n",
              "    40% {\n",
              "      border-color: transparent;\n",
              "      border-right-color: var(--fill-color);\n",
              "      border-top-color: var(--fill-color);\n",
              "    }\n",
              "    60% {\n",
              "      border-color: transparent;\n",
              "      border-right-color: var(--fill-color);\n",
              "    }\n",
              "    80% {\n",
              "      border-color: transparent;\n",
              "      border-right-color: var(--fill-color);\n",
              "      border-bottom-color: var(--fill-color);\n",
              "    }\n",
              "    90% {\n",
              "      border-color: transparent;\n",
              "      border-bottom-color: var(--fill-color);\n",
              "    }\n",
              "  }\n",
              "</style>\n",
              "\n",
              "      <script>\n",
              "        async function quickchart(key) {\n",
              "          const quickchartButtonEl =\n",
              "            document.querySelector('#' + key + ' button');\n",
              "          quickchartButtonEl.disabled = true;  // To prevent multiple clicks.\n",
              "          quickchartButtonEl.classList.add('colab-df-spinner');\n",
              "          try {\n",
              "            const charts = await google.colab.kernel.invokeFunction(\n",
              "                'suggestCharts', [key], {});\n",
              "          } catch (error) {\n",
              "            console.error('Error during call to suggestCharts:', error);\n",
              "          }\n",
              "          quickchartButtonEl.classList.remove('colab-df-spinner');\n",
              "          quickchartButtonEl.classList.add('colab-df-quickchart-complete');\n",
              "        }\n",
              "        (() => {\n",
              "          let quickchartButtonEl =\n",
              "            document.querySelector('#df-0cbd6c23-fe64-49c9-a410-1129123c3b3a button');\n",
              "          quickchartButtonEl.style.display =\n",
              "            google.colab.kernel.accessAllowed ? 'block' : 'none';\n",
              "        })();\n",
              "      </script>\n",
              "    </div>\n",
              "\n",
              "    </div>\n",
              "  </div>\n"
            ],
            "application/vnd.google.colaboratory.intrinsic+json": {
              "type": "dataframe",
              "variable_name": "df",
              "summary": "{\n  \"name\": \"df\",\n  \"rows\": 48620,\n  \"fields\": [\n    {\n      \"column\": \"order_details_id\",\n      \"properties\": {\n        \"dtype\": \"number\",\n        \"std\": 14035,\n        \"min\": 1,\n        \"max\": 48620,\n        \"num_unique_values\": 48620,\n        \"samples\": [\n          42519,\n          39006,\n          12784\n        ],\n        \"semantic_type\": \"\",\n        \"description\": \"\"\n      }\n    },\n    {\n      \"column\": \"order_id\",\n      \"properties\": {\n        \"dtype\": \"number\",\n        \"std\": 6180,\n        \"min\": 1,\n        \"max\": 21350,\n        \"num_unique_values\": 21350,\n        \"samples\": [\n          19270,\n          4635,\n          5413\n        ],\n        \"semantic_type\": \"\",\n        \"description\": \"\"\n      }\n    },\n    {\n      \"column\": \"pizza_id\",\n      \"properties\": {\n        \"dtype\": \"category\",\n        \"num_unique_values\": 91,\n        \"samples\": [\n          \"southw_ckn_s\",\n          \"cali_ckn_l\",\n          \"spin_pesto_s\"\n        ],\n        \"semantic_type\": \"\",\n        \"description\": \"\"\n      }\n    },\n    {\n      \"column\": \"quantity\",\n      \"properties\": {\n        \"dtype\": \"number\",\n        \"std\": 0,\n        \"min\": 1,\n        \"max\": 4,\n        \"num_unique_values\": 4,\n        \"samples\": [\n          2,\n          4,\n          1\n        ],\n        \"semantic_type\": \"\",\n        \"description\": \"\"\n      }\n    },\n    {\n      \"column\": \"pizza_type_id\",\n      \"properties\": {\n        \"dtype\": \"category\",\n        \"num_unique_values\": 32,\n        \"samples\": [\n          \"ckn_alfredo\",\n          \"southw_ckn\",\n          \"ital_veggie\"\n        ],\n        \"semantic_type\": \"\",\n        \"description\": \"\"\n      }\n    },\n    {\n      \"column\": \"size\",\n      \"properties\": {\n        \"dtype\": \"category\",\n        \"num_unique_values\": 5,\n        \"samples\": [\n          \"L\",\n          \"XXL\",\n          \"S\"\n        ],\n        \"semantic_type\": \"\",\n        \"description\": \"\"\n      }\n    },\n    {\n      \"column\": \"price\",\n      \"properties\": {\n        \"dtype\": \"number\",\n        \"std\": 3.6217891586575077,\n        \"min\": 9.75,\n        \"max\": 35.95,\n        \"num_unique_values\": 25,\n        \"samples\": [\n          20.5,\n          17.5,\n          13.25\n        ],\n        \"semantic_type\": \"\",\n        \"description\": \"\"\n      }\n    },\n    {\n      \"column\": \"name\",\n      \"properties\": {\n        \"dtype\": \"category\",\n        \"num_unique_values\": 32,\n        \"samples\": [\n          \"The Chicken Alfredo Pizza\",\n          \"The Southwest Chicken Pizza\",\n          \"The Italian Vegetables Pizza\"\n        ],\n        \"semantic_type\": \"\",\n        \"description\": \"\"\n      }\n    },\n    {\n      \"column\": \"category\",\n      \"properties\": {\n        \"dtype\": \"category\",\n        \"num_unique_values\": 4,\n        \"samples\": [\n          \"Veggie\",\n          \"Chicken\",\n          \"Classic\"\n        ],\n        \"semantic_type\": \"\",\n        \"description\": \"\"\n      }\n    },\n    {\n      \"column\": \"ingredients\",\n      \"properties\": {\n        \"dtype\": \"category\",\n        \"num_unique_values\": 32,\n        \"samples\": [\n          \"Chicken, Red Onions, Red Peppers, Mushrooms, Asiago Cheese, Alfredo Sauce\",\n          \"Chicken, Tomatoes, Red Peppers, Red Onions, Jalapeno Peppers, Corn, Cilantro, Chipotle Sauce\",\n          \"Eggplant, Artichokes, Tomatoes, Zucchini, Red Peppers, Garlic, Pesto Sauce\"\n        ],\n        \"semantic_type\": \"\",\n        \"description\": \"\"\n      }\n    },\n    {\n      \"column\": \"date\",\n      \"properties\": {\n        \"dtype\": \"date\",\n        \"min\": \"2015-01-01 00:00:00\",\n        \"max\": \"2015-12-31 00:00:00\",\n        \"num_unique_values\": 358,\n        \"samples\": [\n          \"2015-08-12 00:00:00\",\n          \"2015-02-12 00:00:00\",\n          \"2015-09-19 00:00:00\"\n        ],\n        \"semantic_type\": \"\",\n        \"description\": \"\"\n      }\n    },\n    {\n      \"column\": \"time\",\n      \"properties\": {\n        \"dtype\": \"category\",\n        \"num_unique_values\": 16382,\n        \"samples\": [\n          \"13:48:54\",\n          \"17:35:34\",\n          \"20:21:52\"\n        ],\n        \"semantic_type\": \"\",\n        \"description\": \"\"\n      }\n    }\n  ]\n}"
            }
          },
          "metadata": {},
          "execution_count": 8
        }
      ]
    },
    {
      "cell_type": "markdown",
      "source": [
        "Total revenue/sales"
      ],
      "metadata": {
        "id": "z8N4tdd3Ne1G"
      }
    },
    {
      "cell_type": "code",
      "source": [
        "# multiply the column price and quantity to get total price\n",
        "df['total_price'] = df['price'] * df['quantity']\n",
        "\n",
        "total_revenue = df['total_price'].sum()\n",
        "total_revenue\n",
        "#print(f\"Total Revenue: ${total_revenue:.2f}\")"
      ],
      "metadata": {
        "colab": {
          "base_uri": "https://localhost:8080/"
        },
        "id": "QGuJ1wnqNfSo",
        "outputId": "a23287eb-bb7a-4e11-db3a-b15d31f0eadf"
      },
      "execution_count": null,
      "outputs": [
        {
          "output_type": "execute_result",
          "data": {
            "text/plain": [
              "np.float64(817860.05)"
            ]
          },
          "metadata": {},
          "execution_count": 9
        }
      ]
    },
    {
      "cell_type": "markdown",
      "source": [
        "Total quantity sold"
      ],
      "metadata": {
        "id": "4MIU8xhdOSME"
      }
    },
    {
      "cell_type": "code",
      "source": [
        "total_quantity_sold = df['quantity'].sum()\n",
        "print(f\"Total Pizzas Sold: {total_quantity_sold}\")"
      ],
      "metadata": {
        "colab": {
          "base_uri": "https://localhost:8080/"
        },
        "id": "xr4zsEEcOSq2",
        "outputId": "97c6ee51-9a3e-4ce3-e34a-0347b3afc761"
      },
      "execution_count": null,
      "outputs": [
        {
          "output_type": "stream",
          "name": "stdout",
          "text": [
            "Total Pizzas Sold: 49574\n"
          ]
        }
      ]
    },
    {
      "cell_type": "markdown",
      "source": [
        "Number of pizza types being sold"
      ],
      "metadata": {
        "id": "TvrgAepWOjlK"
      }
    },
    {
      "cell_type": "code",
      "source": [
        "num_pizza_types = df['pizza_type_id'].nunique()\n",
        "print(f\"Number of Pizza Types: {num_pizza_types}\")"
      ],
      "metadata": {
        "colab": {
          "base_uri": "https://localhost:8080/"
        },
        "id": "MhuRmEoeOj-V",
        "outputId": "5e409c6f-826e-46b1-d970-e2aefa37bcab"
      },
      "execution_count": null,
      "outputs": [
        {
          "output_type": "stream",
          "name": "stdout",
          "text": [
            "Number of Pizza Types: 32\n"
          ]
        }
      ]
    },
    {
      "cell_type": "markdown",
      "source": [
        "Average Price of the pizzas"
      ],
      "metadata": {
        "id": "1zdn-3xbOzIZ"
      }
    },
    {
      "cell_type": "code",
      "source": [
        "average_price = df['total_price'].mean()\n",
        "\n",
        "print(f\"Average Price of Pizzas: ${average_price:.2f}\")"
      ],
      "metadata": {
        "colab": {
          "base_uri": "https://localhost:8080/"
        },
        "id": "49InYyVdOzld",
        "outputId": "c950ef83-d6e6-4c15-ae54-a9d1d96293e2"
      },
      "execution_count": null,
      "outputs": [
        {
          "output_type": "stream",
          "name": "stdout",
          "text": [
            "Average Price of Pizzas: $16.82\n"
          ]
        }
      ]
    },
    {
      "cell_type": "markdown",
      "source": [
        "Five Top best-selling pizzas"
      ],
      "metadata": {
        "id": "mFsOq8P4R9T9"
      }
    },
    {
      "cell_type": "code",
      "source": [
        "top_5_pizzas = df.groupby('name')['quantity'].sum().nlargest(5)\n",
        "print(\"Top 5 Bestselling Pizzas:\")\n",
        "print(top_5_pizzas)"
      ],
      "metadata": {
        "colab": {
          "base_uri": "https://localhost:8080/"
        },
        "id": "ieMZU92YRpIz",
        "outputId": "70bce69f-40ee-4204-8ffe-aa36365f5217"
      },
      "execution_count": null,
      "outputs": [
        {
          "output_type": "stream",
          "name": "stdout",
          "text": [
            "Top 5 Bestselling Pizzas:\n",
            "name\n",
            "The Classic Deluxe Pizza      2453\n",
            "The Barbecue Chicken Pizza    2432\n",
            "The Hawaiian Pizza            2422\n",
            "The Pepperoni Pizza           2418\n",
            "The Thai Chicken Pizza        2371\n",
            "Name: quantity, dtype: int64\n"
          ]
        }
      ]
    },
    {
      "cell_type": "markdown",
      "source": [
        "Pizza types not doing well"
      ],
      "metadata": {
        "id": "3O0y71cDR-8M"
      }
    },
    {
      "cell_type": "code",
      "source": [
        "bottom_10_pizzas = df.groupby('name')['quantity'].sum().nsmallest(10)\n",
        "\n",
        "print(\"\\nPizza Types not doing well (bottom 10 by quantity sold):\")\n",
        "\n",
        "print(bottom_10_pizzas)"
      ],
      "metadata": {
        "colab": {
          "base_uri": "https://localhost:8080/"
        },
        "id": "UZp4R9NyR_7b",
        "outputId": "70e52641-bba7-44ac-fe37-62f6823c62ba"
      },
      "execution_count": null,
      "outputs": [
        {
          "output_type": "stream",
          "name": "stdout",
          "text": [
            "\n",
            "Pizza Types not doing well (bottom 10 by quantity sold):\n",
            "name\n",
            "The Brie Carre Pizza            490\n",
            "The Mediterranean Pizza         934\n",
            "The Calabrese Pizza             937\n",
            "The Spinach Supreme Pizza       950\n",
            "The Soppressata Pizza           961\n",
            "The Spinach Pesto Pizza         970\n",
            "The Chicken Pesto Pizza         973\n",
            "The Italian Vegetables Pizza    981\n",
            "The Chicken Alfredo Pizza       987\n",
            "The Green Garden Pizza          997\n",
            "Name: quantity, dtype: int64\n"
          ]
        }
      ]
    },
    {
      "cell_type": "markdown",
      "source": [
        "Peak hours of sales"
      ],
      "metadata": {
        "id": "2U_vQOQmSoHG"
      }
    },
    {
      "cell_type": "code",
      "source": [
        "df['hour'] = df['time'].apply(lambda x: x.hour)\n",
        "\n",
        "peak_hours = df['hour'].value_counts()\n",
        "\n",
        "print(\"Peak hours of sales:\")\n",
        "\n",
        "print(peak_hours)"
      ],
      "metadata": {
        "colab": {
          "base_uri": "https://localhost:8080/"
        },
        "id": "1ZscBbAPSrKj",
        "outputId": "e2b960fd-997e-4cd7-c40f-bb64f1ccb313"
      },
      "execution_count": null,
      "outputs": [
        {
          "output_type": "stream",
          "name": "stdout",
          "text": [
            "Peak hours of sales:\n",
            "hour\n",
            "12    6543\n",
            "13    6203\n",
            "18    5359\n",
            "17    5143\n",
            "19    4350\n",
            "16    4185\n",
            "14    3521\n",
            "20    3487\n",
            "15    3170\n",
            "11    2672\n",
            "21    2528\n",
            "22    1370\n",
            "23      68\n",
            "10      17\n",
            "9        4\n",
            "Name: count, dtype: int64\n"
          ]
        }
      ]
    },
    {
      "cell_type": "markdown",
      "source": [
        "Total sales by end of the week"
      ],
      "metadata": {
        "id": "ucYRl_tsTBHR"
      }
    },
    {
      "cell_type": "code",
      "source": [
        "df['day_of_week'] = df['date'].dt.day_name()\n",
        "sales_by_day = df.groupby('day_of_week')['total_price'].sum().sort_values(ascending=False)\n",
        "print(\"Total sales by day of the week:\")\n",
        "print(sales_by_day)"
      ],
      "metadata": {
        "colab": {
          "base_uri": "https://localhost:8080/"
        },
        "id": "zOt61Hs7TCiB",
        "outputId": "104f7fc1-3d51-4a69-af1b-4e520f4ffdf6"
      },
      "execution_count": null,
      "outputs": [
        {
          "output_type": "stream",
          "name": "stdout",
          "text": [
            "Total sales by day of the week:\n",
            "day_of_week\n",
            "Friday       136073.90\n",
            "Thursday     123528.50\n",
            "Saturday     123182.40\n",
            "Wednesday    114408.40\n",
            "Tuesday      114133.80\n",
            "Monday       107329.55\n",
            "Sunday        99203.50\n",
            "Name: total_price, dtype: float64\n"
          ]
        }
      ]
    },
    {
      "cell_type": "code",
      "source": [
        "most_sales_day = sales_by_day.idxmax()\n",
        "print(f\"\\nDay of the week with the most sales: {most_sales_day}\")"
      ],
      "metadata": {
        "colab": {
          "base_uri": "https://localhost:8080/"
        },
        "id": "SbmPh_zYTYWC",
        "outputId": "08513950-de93-4799-8fb1-d8077e197fe8"
      },
      "execution_count": null,
      "outputs": [
        {
          "output_type": "stream",
          "name": "stdout",
          "text": [
            "\n",
            "Day of the week with the most sales: Friday\n"
          ]
        }
      ]
    },
    {
      "cell_type": "markdown",
      "source": [
        "Sales made in each month"
      ],
      "metadata": {
        "id": "sWivfQs2T7B2"
      }
    },
    {
      "cell_type": "code",
      "source": [
        "df['month'] = df['date'].dt.to_period('M')\n",
        "sales_by_month = df.groupby('month')['total_price'].sum()\n",
        "print(\"Sales made in each month:\")\n",
        "print(sales_by_month)"
      ],
      "metadata": {
        "colab": {
          "base_uri": "https://localhost:8080/"
        },
        "id": "Q5ILJ2RqT9S3",
        "outputId": "8fa709ab-f7c8-4066-fd87-92a1d5e392e4"
      },
      "execution_count": null,
      "outputs": [
        {
          "output_type": "stream",
          "name": "stdout",
          "text": [
            "Sales made in each month:\n",
            "month\n",
            "2015-01    69793.30\n",
            "2015-02    65159.60\n",
            "2015-03    70397.10\n",
            "2015-04    68736.80\n",
            "2015-05    71402.75\n",
            "2015-06    68230.20\n",
            "2015-07    72557.90\n",
            "2015-08    68278.25\n",
            "2015-09    64180.05\n",
            "2015-10    64027.60\n",
            "2015-11    70395.35\n",
            "2015-12    64701.15\n",
            "Freq: M, Name: total_price, dtype: float64\n"
          ]
        }
      ]
    },
    {
      "cell_type": "code",
      "source": [
        "sales_by_month.plot(kind='line', title='Monthly Sales Trend')"
      ],
      "metadata": {
        "colab": {
          "base_uri": "https://localhost:8080/",
          "height": 257
        },
        "id": "FAD8DBcyUYGW",
        "outputId": "2781a97b-868c-480c-ee0c-109a8c68f49e"
      },
      "execution_count": null,
      "outputs": [
        {
          "output_type": "execute_result",
          "data": {
            "text/plain": [
              "<Axes: title={'center': 'Monthly Sales Trend'}, xlabel='month'>"
            ]
          },
          "metadata": {},
          "execution_count": 20
        },
        {
          "output_type": "display_data",
          "data": {
            "text/plain": [
              "<Figure size 640x480 with 1 Axes>"
            ],
            "image/png": "[encoded data removed]"
          },
          "metadata": {}
        }
      ]
    },
    {
      "cell_type": "markdown",
      "source": [
        "Pizzas that are not doing well on the menu"
      ],
      "metadata": {
        "id": "r-aAIUqgUppj"
      }
    },
    {
      "cell_type": "code",
      "source": [
        "#Group the DataFrame by 'name' and sum the 'quantity' for each pizza type\n",
        "pizza_sales = df.groupby('name')['quantity'].sum()\n",
        "\n",
        "# Sort the results in ascending order to find the least popular pizzas\n",
        "bottom_performing_pizzas = pizza_sales.sort_values(ascending=True)\n",
        "\n",
        "# Print the results\n",
        "print(\"Pizza types that are not doing well (sorted by lowest quantity sold):\")\n",
        "print(bottom_performing_pizzas)"
      ],
      "metadata": {
        "colab": {
          "base_uri": "https://localhost:8080/"
        },
        "id": "oeLWhVXSUrBC",
        "outputId": "c80426b2-06df-4a86-945a-3849332bfd53"
      },
      "execution_count": null,
      "outputs": [
        {
          "output_type": "stream",
          "name": "stdout",
          "text": [
            "Pizza types that are not doing well (sorted by lowest quantity sold):\n",
            "name\n",
            "The Brie Carre Pizza                           490\n",
            "The Mediterranean Pizza                        934\n",
            "The Calabrese Pizza                            937\n",
            "The Spinach Supreme Pizza                      950\n",
            "The Soppressata Pizza                          961\n",
            "The Spinach Pesto Pizza                        970\n",
            "The Chicken Pesto Pizza                        973\n",
            "The Italian Vegetables Pizza                   981\n",
            "The Chicken Alfredo Pizza                      987\n",
            "The Green Garden Pizza                         997\n",
            "The Pepperoni, Mushroom, and Peppers Pizza    1359\n",
            "The Five Cheese Pizza                         1409\n",
            "The Greek Pizza                               1420\n",
            "The Italian Capocollo Pizza                   1438\n",
            "The Spinach and Feta Pizza                    1446\n",
            "The Pepper Salami Pizza                       1446\n",
            "The Prosciutto and Arugula Pizza              1457\n",
            "The Napolitana Pizza                          1464\n",
            "The Mexicana Pizza                            1484\n",
            "The Vegetables + Vegetables Pizza             1526\n",
            "The Italian Supreme Pizza                     1884\n",
            "The Four Cheese Pizza                         1902\n",
            "The Big Meat Pizza                            1914\n",
            "The Southwest Chicken Pizza                   1917\n",
            "The Spicy Italian Pizza                       1924\n",
            "The Sicilian Pizza                            1938\n",
            "The California Chicken Pizza                  2370\n",
            "The Thai Chicken Pizza                        2371\n",
            "The Pepperoni Pizza                           2418\n",
            "The Hawaiian Pizza                            2422\n",
            "The Barbecue Chicken Pizza                    2432\n",
            "The Classic Deluxe Pizza                      2453\n",
            "Name: quantity, dtype: int64\n"
          ]
        }
      ]
    }
  ],
  "metadata": {
    "colab": {
      "provenance": [],
      "authorship_tag": "ABX9TyMohg/T4nrtBDz1tKVXm1Gi",
      "include_colab_link": true
    },
    "kernelspec": {
      "display_name": "Python 3",
      "name": "python3"
    },
    "language_info": {
      "name": "python"
    }
  },
  "nbformat": 4,
  "nbformat_minor": 0
}